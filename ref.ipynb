{
 "cells": [
  {
   "cell_type": "code",
   "execution_count": 1,
   "metadata": {},
   "outputs": [],
   "source": [
    "from openai import OpenAI\n",
    "from dotenv import load_dotenv\n",
    "import os\n",
    "\n",
    "load_dotenv()\n",
    "\n",
    "\n",
    "client = OpenAI(\n",
    "    api_key=os.getenv(\"OPENAI_KEY\"),\n",
    ")\n",
    "\n",
    "response = client.chat.completions.create(\n",
    "    model=\"gpt-4-1106-preview\",\n",
    "    messages=[\n",
    "        {\n",
    "            \"role\": \"system\",\n",
    "            \"content\": \"You are a helpful assistant. Be sure to reply in 한국어.\",\n",
    "        },\n",
    "        {\"role\": \"user\", \"content\": \"지금 대한민국 대통령은 누구야?\"},\n",
    "    ],\n",
    ")"
   ]
  },
  {
   "cell_type": "code",
   "execution_count": 2,
   "metadata": {},
   "outputs": [
    {
     "data": {
      "text/plain": [
       "'제 지식이 마지막으로 업데이트되었을 때인 2023년 기준으로 대한민국의 대통령은 윤석열입니다. 하지만 최신 정보가 필요하시다면, 공식 출처나 최신 뉴스를 확인해 주시길 바랍니다.'"
      ]
     },
     "execution_count": 2,
     "metadata": {},
     "output_type": "execute_result"
    }
   ],
   "source": [
    "response.choices[0].message.content"
   ]
  },
  {
   "cell_type": "markdown",
   "metadata": {},
   "source": [
    "---\n"
   ]
  },
  {
   "cell_type": "code",
   "execution_count": 1,
   "metadata": {},
   "outputs": [
    {
     "data": {
      "text/plain": [
       "True"
      ]
     },
     "execution_count": 1,
     "metadata": {},
     "output_type": "execute_result"
    }
   ],
   "source": [
    "from GPTAssistant import *\n",
    "from dotenv import load_dotenv\n",
    "import os\n",
    "\n",
    "load_dotenv()"
   ]
  },
  {
   "cell_type": "code",
   "execution_count": 2,
   "metadata": {},
   "outputs": [],
   "source": [
    "from IPython.display import Markdown"
   ]
  },
  {
   "cell_type": "code",
   "execution_count": 3,
   "metadata": {},
   "outputs": [],
   "source": [
    "assistant_opt = {\n",
    "    \"instructions\": \"You are a helpful assistant. Unless otherwise requested, answer in 한국어 only.\",\n",
    "    \"tools\": [{\"type\": \"retrieval\"}],\n",
    "}"
   ]
  },
  {
   "cell_type": "code",
   "execution_count": 4,
   "metadata": {},
   "outputs": [],
   "source": [
    "assistant = GPTAssistant(os.getenv(\"OPENAI_KEY\"), \"gpt-4-1106-preview\", **assistant_opt)"
   ]
  },
  {
   "cell_type": "code",
   "execution_count": 9,
   "metadata": {},
   "outputs": [
    {
     "data": {
      "text/plain": [
       "{'results': ['안녕하세요! 어떻게 도와드릴까요?'],\n",
       " 'thread_id': 'thread_hwopGFe7vXslxY83oV3q2Cke'}"
      ]
     },
     "execution_count": 9,
     "metadata": {},
     "output_type": "execute_result"
    }
   ],
   "source": [
    "res = assistant.first_chat(\"안녕하세요!\")\n",
    "res"
   ]
  },
  {
   "cell_type": "code",
   "execution_count": 6,
   "metadata": {},
   "outputs": [],
   "source": [
    "with open(\n",
    "    \"./2. [공모안내서] 초거대 인공지능 활용지원-종합지원형(수요기업기관) pool 모집_수정본.pdf\",\n",
    "    \"rb\",\n",
    ") as f:\n",
    "    file = f.read()"
   ]
  },
  {
   "cell_type": "code",
   "execution_count": 10,
   "metadata": {},
   "outputs": [],
   "source": [
    "result = assistant.chat(res[\"thread_id\"], \"이 사업에 붙기 위해선 어떤 걸 내세우는 게 좋을까요?.\", [file])"
   ]
  },
  {
   "cell_type": "code",
   "execution_count": 11,
   "metadata": {},
   "outputs": [
    {
     "data": {
      "text/markdown": [
       "업로드하신 파일에 대해서 정보를 제공하기 위해서는 우선 해당 파일을 확인해야 합니다. 이 파일이 사업 제안서나 관련 안내 문서일 수도 있으므로, 파일을 분석하여 어떤 내용을 내세우는 것이 좋을지 조언 드리겠습니다. 지금 바로 파일을 열어볼게요."
      ],
      "text/plain": [
       "<IPython.core.display.Markdown object>"
      ]
     },
     "metadata": {},
     "output_type": "display_data"
    },
    {
     "data": {
      "text/markdown": [
       "사업에 지원하기 위해 내세우는 것이 좋은 요소들을 정리해보겠습니다:\n",
       "\n",
       "1. 디지털플랫폼정부 혁신 선도를 위한 비전과 역량을 강조하는 것이 좋습니다. 대통령의 핵심 공약인 \"디지털플랫폼정부\" 구현과 관련하여, 해당 기술을 활용하려는 목적과 방향을 분명히 밝히세요【10†출처】.\n",
       "\n",
       "2. 초거대 인공지능 기술을 활용한 서비스 개발 능력 또는 해당 기술에 대한 이해도를 내세우는 것이 중요합니다. 기존에 인공지능 기술을 활용하여 혁신을 이룬 사례(예를 들어, 고품질의 콘텐츠 생성, 광고 카피 자동 생성, 금융 뉴스 요약 등)를 강조하거나, 해당 분야의 전문성을 드러내는 것이 유리합니다【11†출처】.\n",
       "\n",
       "3. 공급기업과의 협력을 통해 실제로 서비스를 개발하거나 도입할 계획이 있는 경우, 이를 상세히 기술하여 구체적인 실행 계획을 제시하는 것이 좋습니다. 이미 정립된 초거대 인공지능 기술을 활용하여 어떤 서비스를 어떻게 개발하거나 개선할 것인지를 명확하게 서술하세요【11†출처】.\n",
       "\n",
       "4. 해당 프로젝트를 통해 공공 부문 또는 중소기업에 어떤 긍정적인 변화를 가져올 수 있을지를 밝혀, 프로젝트의 사회적 가치나 파급 효과를 강조하세요【10†출처】.\n",
       "\n",
       "5. 이용할 수 있는 초거대 인공지능 기술의 예시를 제시하여, 구체적인 사용 사례나 해당 기술을 활용한 결과물에 대한 아이디어를 제공할 수 있습니다. 이는 사업의 실현 가능성과 혁신성을 입증하는 방법 중 하나입니다【11†출처】.\n",
       "\n",
       "공모에 제출할 자료나 제안서 작성 시 위에 언급한 내용들을 참고하여 준비하면 사업에 지원하는 데 유리할 것입니다."
      ],
      "text/plain": [
       "<IPython.core.display.Markdown object>"
      ]
     },
     "metadata": {},
     "output_type": "display_data"
    }
   ],
   "source": [
    "for text in result[\"results\"]:\n",
    "    display(Markdown(text))"
   ]
  },
  {
   "cell_type": "markdown",
   "metadata": {},
   "source": [
    "---\n"
   ]
  },
  {
   "cell_type": "code",
   "execution_count": 1,
   "metadata": {},
   "outputs": [
    {
     "data": {
      "text/plain": [
       "True"
      ]
     },
     "execution_count": 1,
     "metadata": {},
     "output_type": "execute_result"
    }
   ],
   "source": [
    "from GPTAssistant import *\n",
    "from dotenv import load_dotenv\n",
    "import os\n",
    "\n",
    "load_dotenv()"
   ]
  },
  {
   "cell_type": "code",
   "execution_count": 2,
   "metadata": {},
   "outputs": [],
   "source": [
    "from IPython.display import Markdown"
   ]
  },
  {
   "cell_type": "markdown",
   "metadata": {},
   "source": [
    "당신은 python 프로그래밍 강사이다. 테스트용 문제와 함께 user의 코드 답안 파일을 입력하면, 코드 중 문제에 제시된 조건에 부합하지 않는 점 혹은 잘못된 코드가 있다면 지적하고 그런 점이 없다면 칭찬 및 격려해라.\n",
    "코드를 지적할 때는 수정 방법을 안내할 수 있으나, 수정된 코드 전체를 반환하지 마라.\n",
    "이 학생의 이름은 김진하, 초급반 학생이다.\n"
   ]
  },
  {
   "cell_type": "code",
   "execution_count": 21,
   "metadata": {},
   "outputs": [],
   "source": [
    "assistant_opt = {\n",
    "    \"instructions\": \"\"\"\\\n",
    "You are a python programming instructor. When you receive a user's code answer file with a question for testing, point out if any of the code is incorrect or doesn't meet the conditions in the problem, and praise and encourage if it does.\n",
    "When pointing out code, you can give instructions on how to fix it, but don't return the entire corrected code.\n",
    "The student's name is 김진하, a beginner.\n",
    "Unless otherwise requested, answer in 한국어 only.\\\n",
    "\"\"\",\n",
    "    \"tools\": [{\"type\": \"code_interpreter\"}],\n",
    "}"
   ]
  },
  {
   "cell_type": "code",
   "execution_count": 22,
   "metadata": {},
   "outputs": [],
   "source": [
    "assistant = GPTAssistant(os.getenv(\"OPENAI_KEY\"), \"gpt-4-1106-preview\", **assistant_opt)"
   ]
  },
  {
   "cell_type": "code",
   "execution_count": 27,
   "metadata": {},
   "outputs": [],
   "source": [
    "prompt = \"\"\"문제: \"평균 점수 계산기\"\n",
    "\n",
    "요구 사항:\n",
    "- 사용자로부터 5명의 학생의 점수를 입력받습니다. 각 점수는 0에서 100 사이의 정수여야 합니다.\n",
    "- 입력받은 점수들의 평균을 계산합니다.\n",
    "- 평균 점수를 출력합니다. 평균은 소수점 둘째 자리까지 표시해야 합니다.\n",
    "\n",
    "주의 사항:\n",
    "- 입력값이 0에서 100 사이의 정수가 아닐 경우, 오류 메시지를 출력해야 합니다.\n",
    "- 계산기는 함수여야만 합니다.\"\"\""
   ]
  },
  {
   "cell_type": "code",
   "execution_count": 6,
   "metadata": {},
   "outputs": [],
   "source": [
    "with open(\"./test.py\", \"rb\") as f:\n",
    "    file = f.read()"
   ]
  },
  {
   "cell_type": "code",
   "execution_count": 28,
   "metadata": {},
   "outputs": [],
   "source": [
    "res = assistant.first_chat(prompt, [file])"
   ]
  },
  {
   "cell_type": "code",
   "execution_count": 29,
   "metadata": {},
   "outputs": [
    {
     "data": {
      "text/markdown": [
       "김진하님의 코드를 확인했습니다. 아주 좋은 시도를 하셨지만 몇 가지 수정해야 할 부분이 있습니다.\n",
       "\n",
       "1. `len(scores) != 5` 조건을 사용하여 리스트의 길이를 확인하셨는데, 이 조건은 리스트의 길이가 5가 아닐 때 오류를 발생시킵니다. 그러나 문제에서 요구하는 것은 5개의 점수를 입력받아야 한다는 것이므로, 리스트 길이가 5가 맞는지 확인해야 합니다. 그러므로 조건을 `len(scores) == 5`로 변경해야 합니다.\n",
       "\n",
       "2. 예외를 발생시킬 때 문자열을 `raise` 키워드로 바로 던질 수 없습니다. 올바르게 예외를 발생시키기 위해서는 `ValueError`와 같은 예외 클래스를 사용해야 합니다. 예를 들어, `raise ValueError(\"score must be an integer between 0 and 100\")`로 수정할 수 있습니다.\n",
       "\n",
       "3. 점수의 범위를 검사하는 조건에서 `(score > 0)`는 0을 포함하지 않으므로 `(score >= 0)`으로 수정해야 0점도 유효한 점수로 간주됩니다.\n",
       "\n",
       "4. 출력되는 평균이 소수점 둘째 자리까지 표시되어야 한다는 요구 사항을 충족시키기 위해서는 `round()` 함수를 사용하여 결과를 반올림할 필요가 있습니다.\n",
       "\n",
       "5. 코드에 문법적 오류는 없으나 점수를 입력받는 부분은 구현되지 않았습니다. 문제의 요구 사항에 따라 사용자로부터 5개의 점수를 입력받는 부분을 추가해야 합니다.\n",
       "\n",
       "수정사항을 적용하여 코드를 개선해보시면 좋을 것 같습니다. 화이팅!"
      ],
      "text/plain": [
       "<IPython.core.display.Markdown object>"
      ]
     },
     "metadata": {},
     "output_type": "display_data"
    }
   ],
   "source": [
    "for text in res[\"results\"]:\n",
    "    display(Markdown(text))"
   ]
  },
  {
   "cell_type": "code",
   "execution_count": 12,
   "metadata": {},
   "outputs": [],
   "source": [
    "prompt2 = \"\"\"문제: \"문자열 암호화 함수\"\n",
    "\n",
    "요구 사항:\n",
    "- encrypt_string이라는 이름의 함수를 만듭니다. 이 함수는 하나의 문자열을 매개변수로 받습니다.\n",
    "- 함수는 입력받은 문자열의 각 문자를 아스키 코드 값으로 변환한 후, 그 값을 1씩 증가시킨 후의 문자로 바꿉니다. 예를 들어, 'a'는 'b'가 되고, 'z'는 'a'가 됩니다 (즉, 'z' 다음은 다시 'a'로 순환합니다).\n",
    "- 변환된 문자열을 반환합니다.\n",
    "\n",
    "예시:\n",
    "- encrypt_string(\"hello\")을 호출하면, \"ifmmp\"를 반환해야 합니다.\n",
    "\n",
    "힌트:\n",
    "- 아스키 코드 변환을 위해 ord() 함수와 chr() 함수를 사용할 수 있습니다.\n",
    "- 'z' 또는 'Z'를 순환하기 위해 조건문을 사용해야 할 수도 있습니다.\"\"\""
   ]
  },
  {
   "cell_type": "code",
   "execution_count": 13,
   "metadata": {},
   "outputs": [],
   "source": [
    "with open(\"./test2.py\", \"rb\") as f:\n",
    "    file2 = f.read()"
   ]
  },
  {
   "cell_type": "code",
   "execution_count": 23,
   "metadata": {},
   "outputs": [],
   "source": [
    "res2 = assistant.first_chat(prompt2, [file2])"
   ]
  },
  {
   "cell_type": "code",
   "execution_count": 24,
   "metadata": {},
   "outputs": [
    {
     "data": {
      "text/markdown": [
       "제출하신 코드를 확인했습니다. `encrypt_string` 함수를 작성하셨는데, 알파벳 문자에 대해서만 1을 더해 암호화하는 과정이 포함되어 있습니다. 하지만 'z'나 'Z' 문자가 입력되었을 때 다시 'a' 또는 'A'로 순환하도록 하는 부분이 빠져 있습니다. 이 부분을 추가하시면 됩니다.\n",
       "\n",
       "'z' 또는 'Z'를 처리하기 위해서는 다음과 같이 조건을 추가할 수 있습니다:\n",
       "- `ord(char)`가 'z'의 아스키 코드 값인 경우, `encrypted`에 'a'를 추가합니다.\n",
       "- `ord(char)`가 'Z'의 아스키 코드 값인 경우, `encrypted`에 'A'를 추가합니다.\n",
       "\n",
       "그 외의 알파벳 문자인 경우에는 기존처럼 1을 더해줍니다. 단, 'y'의 경우 1을 더하면 'z'가 되고, 'Y'의 경우에도 1을 더하면 'Z'가 됩니다.\n",
       "\n",
       "이 부분을 코드에 적용해보세요. 그리고 예외적으로 'z'가 입력되었을 때 'a'로, 'Z'가 입력되었을 때 'A'로 바뀌어야 한다는 문제 조건을 반드시 충족시켜주세요. 다시 시도해보시면 좋을 것 같습니다!"
      ],
      "text/plain": [
       "<IPython.core.display.Markdown object>"
      ]
     },
     "metadata": {},
     "output_type": "display_data"
    }
   ],
   "source": [
    "for text in res2[\"results\"]:\n",
    "    display(Markdown(text))"
   ]
  },
  {
   "cell_type": "markdown",
   "metadata": {},
   "source": [
    "---"
   ]
  },
  {
   "cell_type": "code",
   "execution_count": 1,
   "metadata": {},
   "outputs": [
    {
     "data": {
      "text/plain": [
       "True"
      ]
     },
     "execution_count": 1,
     "metadata": {},
     "output_type": "execute_result"
    }
   ],
   "source": [
    "from openai import OpenAI\n",
    "from GPTAssistant import GPTAssistant\n",
    "from dotenv import load_dotenv\n",
    "import os\n",
    "\n",
    "load_dotenv()"
   ]
  },
  {
   "cell_type": "code",
   "execution_count": 2,
   "metadata": {},
   "outputs": [],
   "source": [
    "assistant_opt = {\n",
    "    \"instructions\": \"\"\"\\\n",
    "You are a weather bot. Use the provided functions to answer questions.\n",
    "Unless otherwise requested, answer in 한국어 only.\\\n",
    "\"\"\",\n",
    "    \"tools\": [\n",
    "        {\n",
    "            \"type\": \"function\",\n",
    "            \"function\": {\n",
    "                \"name\": \"getCurrentWeather\",\n",
    "                \"description\": \"Get the weather in location\",\n",
    "                \"parameters\": {\n",
    "                    \"type\": \"object\",\n",
    "                    \"properties\": {\n",
    "                        \"location\": {\n",
    "                            \"type\": \"string\",\n",
    "                            \"description\": \"The city and state e.g. San Francisco, CA\",\n",
    "                        },\n",
    "                        \"unit\": {\"type\": \"string\", \"enum\": [\"c\", \"f\"]},\n",
    "                    },\n",
    "                    \"required\": [\"location\"],\n",
    "                },\n",
    "            },\n",
    "        },\n",
    "    ],\n",
    "}"
   ]
  },
  {
   "cell_type": "code",
   "execution_count": 3,
   "metadata": {},
   "outputs": [],
   "source": [
    "client = OpenAI(api_key=os.getenv(\"OPENAI_KEY\"))\n",
    "assistant = client.beta.assistants.create(model=\"gpt-4-1106-preview\", **assistant_opt)"
   ]
  },
  {
   "cell_type": "code",
   "execution_count": 4,
   "metadata": {},
   "outputs": [],
   "source": [
    "thread = client.beta.threads.create()"
   ]
  },
  {
   "cell_type": "code",
   "execution_count": 5,
   "metadata": {},
   "outputs": [],
   "source": [
    "def getCurrentWeather(*args):\n",
    "    return \"rainy, 15C\"\n",
    "\n",
    "functions = {\"getCurrentWeather\": getCurrentWeather}"
   ]
  },
  {
   "cell_type": "code",
   "execution_count": 6,
   "metadata": {},
   "outputs": [],
   "source": [
    "chat = GPTAssistant(os.getenv(\"OPENAI_KEY\"), \"gpt-4-1106-preview\", functions, **assistant_opt)"
   ]
  },
  {
   "cell_type": "code",
   "execution_count": 8,
   "metadata": {},
   "outputs": [],
   "source": [
    "run_status, run_id = chat.chat(thread.id, \"오늘 부산 날씨는 어때?\")"
   ]
  },
  {
   "cell_type": "code",
   "execution_count": 9,
   "metadata": {},
   "outputs": [
    {
     "data": {
      "text/plain": [
       "'{\"location\":\"Busan\"}'"
      ]
     },
     "execution_count": 9,
     "metadata": {},
     "output_type": "execute_result"
    }
   ],
   "source": [
    "run_status.required_action.submit_tool_outputs.tool_calls[0].function.arguments"
   ]
  },
  {
   "cell_type": "code",
   "execution_count": 14,
   "metadata": {},
   "outputs": [
    {
     "data": {
      "text/plain": [
       "RequiredActionFunctionToolCall(id='call_ChRjlkC5TpWE7HXIE6G7lLuX', function=Function(arguments='{\"location\":\"Busan\"}', name='getCurrentWeather'), type='function')"
      ]
     },
     "execution_count": 14,
     "metadata": {},
     "output_type": "execute_result"
    }
   ],
   "source": [
    "run_status.required_action.submit_tool_outputs.tool_calls[0]"
   ]
  },
  {
   "cell_type": "code",
   "execution_count": 11,
   "metadata": {},
   "outputs": [
    {
     "data": {
      "text/plain": [
       "Run(id='run_dCxNhrgErCpzweWpsr9NeAEv', assistant_id='asst_RgjrMKa13qMwIKl5s39adXWY', cancelled_at=None, completed_at=None, created_at=1700205893, expires_at=1700206493, failed_at=None, file_ids=[], instructions='You are a weather bot. Use the provided functions to answer questions.\\nUnless otherwise requested, answer in 한국어 only.', last_error=None, metadata={}, model='gpt-4-1106-preview', object='thread.run', required_action=RequiredAction(submit_tool_outputs=RequiredActionSubmitToolOutputs(tool_calls=[RequiredActionFunctionToolCall(id='call_ChRjlkC5TpWE7HXIE6G7lLuX', function=Function(arguments='{\"location\":\"Busan\"}', name='getCurrentWeather'), type='function')]), type='submit_tool_outputs'), started_at=1700205893, status='requires_action', thread_id='thread_bV7D5M1AzjGjwCdBEyCwtkNq', tools=[ToolAssistantToolsFunction(function=FunctionDefinition(name='getCurrentWeather', parameters={'type': 'object', 'properties': {'location': {'type': 'string', 'description': 'The city and state e.g. San Francisco, CA'}, 'unit': {'type': 'string', 'enum': ['c', 'f']}}, 'required': ['location']}, description='Get the weather in location'), type='function')])"
      ]
     },
     "execution_count": 11,
     "metadata": {},
     "output_type": "execute_result"
    }
   ],
   "source": [
    "run_status"
   ]
  },
  {
   "cell_type": "code",
   "execution_count": 16,
   "metadata": {},
   "outputs": [],
   "source": [
    "tool_outputs = [\n",
    "    {\"tool_call_id\": run_status.required_action.submit_tool_outputs.tool_calls[0].id,\n",
    "    \"output\": getCurrentWeather()}\n",
    "]"
   ]
  },
  {
   "cell_type": "code",
   "execution_count": 17,
   "metadata": {},
   "outputs": [
    {
     "data": {
      "text/plain": [
       "Run(id='run_dCxNhrgErCpzweWpsr9NeAEv', assistant_id='asst_RgjrMKa13qMwIKl5s39adXWY', cancelled_at=None, completed_at=None, created_at=1700205893, expires_at=1700206493, failed_at=None, file_ids=[], instructions='You are a weather bot. Use the provided functions to answer questions.\\nUnless otherwise requested, answer in 한국어 only.', last_error=None, metadata={}, model='gpt-4-1106-preview', object='thread.run', required_action=None, started_at=1700205893, status='queued', thread_id='thread_bV7D5M1AzjGjwCdBEyCwtkNq', tools=[ToolAssistantToolsFunction(function=FunctionDefinition(name='getCurrentWeather', parameters={'type': 'object', 'properties': {'location': {'type': 'string', 'description': 'The city and state e.g. San Francisco, CA'}, 'unit': {'type': 'string', 'enum': ['c', 'f']}}, 'required': ['location']}, description='Get the weather in location'), type='function')])"
      ]
     },
     "execution_count": 17,
     "metadata": {},
     "output_type": "execute_result"
    }
   ],
   "source": [
    "res = client.beta.threads.runs.submit_tool_outputs(thread_id=thread.id, run_id=run_id, tool_outputs=tool_outputs)\n",
    "\n",
    "res"
   ]
  },
  {
   "cell_type": "code",
   "execution_count": 18,
   "metadata": {},
   "outputs": [
    {
     "data": {
      "text/plain": [
       "Run(id='run_dCxNhrgErCpzweWpsr9NeAEv', assistant_id='asst_RgjrMKa13qMwIKl5s39adXWY', cancelled_at=None, completed_at=1700206292, created_at=1700205893, expires_at=None, failed_at=None, file_ids=[], instructions='You are a weather bot. Use the provided functions to answer questions.\\nUnless otherwise requested, answer in 한국어 only.', last_error=None, metadata={}, model='gpt-4-1106-preview', object='thread.run', required_action=None, started_at=1700206289, status='completed', thread_id='thread_bV7D5M1AzjGjwCdBEyCwtkNq', tools=[ToolAssistantToolsFunction(function=FunctionDefinition(name='getCurrentWeather', parameters={'type': 'object', 'properties': {'location': {'type': 'string', 'description': 'The city and state e.g. San Francisco, CA'}, 'unit': {'type': 'string', 'enum': ['c', 'f']}}, 'required': ['location']}, description='Get the weather in location'), type='function')])"
      ]
     },
     "execution_count": 18,
     "metadata": {},
     "output_type": "execute_result"
    }
   ],
   "source": [
    "client.beta.threads.runs.retrieve(res.id, thread_id=thread.id)"
   ]
  },
  {
   "cell_type": "code",
   "execution_count": 1,
   "metadata": {},
   "outputs": [
    {
     "data": {
      "text/plain": [
       "True"
      ]
     },
     "execution_count": 1,
     "metadata": {},
     "output_type": "execute_result"
    }
   ],
   "source": [
    "from openai import OpenAI\n",
    "from GPTAssistant import GPTAssistant\n",
    "from dotenv import load_dotenv\n",
    "import os\n",
    "\n",
    "load_dotenv()"
   ]
  },
  {
   "cell_type": "code",
   "execution_count": 2,
   "metadata": {},
   "outputs": [],
   "source": [
    "from GPTAssistant import GPTAssistant"
   ]
  },
  {
   "cell_type": "code",
   "execution_count": 8,
   "metadata": {},
   "outputs": [],
   "source": [
    "assistant_opt = {\n",
    "    \"instructions\": \"\"\"\\\n",
    "You are a weather bot. Use the provided functions to answer questions.\n",
    "Unless otherwise requested, answer in 한국어 only.\\\n",
    "\"\"\",\n",
    "    \"tools\": [\n",
    "        {\n",
    "            \"type\": \"function\",\n",
    "            \"function\": {\n",
    "                \"name\": \"getCurrentWeather\",\n",
    "                \"description\": \"Get the weather in location\",\n",
    "                \"parameters\": {\n",
    "                    \"type\": \"object\",\n",
    "                    \"properties\": {\n",
    "                        \"location\": {\n",
    "                            \"type\": \"string\",\n",
    "                            \"description\": \"The city and state e.g. San Francisco, CA\",\n",
    "                        },\n",
    "                        \"unit\": {\"type\": \"string\", \"enum\": [\"c\", \"f\"]},\n",
    "                    },\n",
    "                    \"required\": [\"location\"],\n",
    "                },\n",
    "            },\n",
    "        },\n",
    "    ],\n",
    "}\n",
    "\n",
    "def getCurrentWeather(*args, **kwargs):\n",
    "    return \"rainy, 15C\"\n",
    "\n",
    "functions = {\"getCurrentWeather\": getCurrentWeather}"
   ]
  },
  {
   "cell_type": "code",
   "execution_count": 9,
   "metadata": {},
   "outputs": [],
   "source": [
    "chat = GPTAssistant(os.getenv(\"OPENAI_KEY\"), \"gpt-4-1106-preview\", functions, **assistant_opt)"
   ]
  },
  {
   "cell_type": "code",
   "execution_count": 10,
   "metadata": {},
   "outputs": [
    {
     "data": {
      "text/plain": [
       "{'results': ['현재 제주도 날씨는 비가 오고 있으며 기온은 15도입니다.']}"
      ]
     },
     "execution_count": 10,
     "metadata": {},
     "output_type": "execute_result"
    }
   ],
   "source": [
    "chat.first_chat(\"지금 제주도 날씨는 어때?\")"
   ]
  }
 ],
 "metadata": {
  "kernelspec": {
   "display_name": "aswc",
   "language": "python",
   "name": "python3"
  },
  "language_info": {
   "codemirror_mode": {
    "name": "ipython",
    "version": 3
   },
   "file_extension": ".py",
   "mimetype": "text/x-python",
   "name": "python",
   "nbconvert_exporter": "python",
   "pygments_lexer": "ipython3",
   "version": "3.9.20"
  }
 },
 "nbformat": 4,
 "nbformat_minor": 2
}
