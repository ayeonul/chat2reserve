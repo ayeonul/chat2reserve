{
 "cells": [
  {
   "cell_type": "code",
   "execution_count": 1,
   "metadata": {},
   "outputs": [],
   "source": [
    "from IPython.display import Markdown"
   ]
  },
  {
   "cell_type": "markdown",
   "metadata": {},
   "source": [
    "### Init"
   ]
  },
  {
   "cell_type": "code",
   "execution_count": 2,
   "metadata": {},
   "outputs": [],
   "source": [
    "from GPTAssistant import GPTAssistant \n",
    "from dotenv import load_dotenv\n",
    "import os\n",
    "from datetime import datetime\n",
    "import pytz\n",
    "\n",
    "load_dotenv()\n",
    "\n",
    "OPENAI_KEY = os.getenv(\"OPENAI_KEY\")\n",
    "kst = pytz.timezone('Asia/Seoul')"
   ]
  },
  {
   "cell_type": "code",
   "execution_count": null,
   "metadata": {},
   "outputs": [],
   "source": [
    "today = datetime.now().astimezone(kst)\n",
    "str_tdy = today.strftime(\"%A, %B %d, %Y\")\n",
    "str_time = today.strftime(\"%H:%M\")\n",
    "\n",
    "tools = [\n",
    "    {\n",
    "        \"type\": \"function\",\n",
    "        \"function\": {\n",
    "            \"name\": \"reserve_meetingroom\",\n",
    "            \"description\": \"Based on the list of entered conversations, identify the meeting location and time.\",\n",
    "            \"parameters\": {\n",
    "                \"type\": \"object\",\n",
    "                \"properties\": {\n",
    "                    \"meeting_room\": {\n",
    "                        \"type\": \"string\",\n",
    "                        \"description\": \"Meeting location inferred from the conversation list.\",\n",
    "                        \"enum\": [\"회의실1\", \"회의실2\", \"회의실3\"], # 이곳에 각 회의실의 명칭을 넣는다.\n",
    "                    },\n",
    "                    \"meeting_date\": {\n",
    "                        \"type\": \"string\",\n",
    "                        \"description\": f\"Meeting date inferred from the conversation list, displayed as YYYY-mm-dd. Remember today is {str_tdy}\",\n",
    "                    },\n",
    "                    \"meeting_time\": {\n",
    "                        \"type\": \"string\",\n",
    "                        \"description\": f\"Meeting time inferred from the conversation list, displayed in 24-hour format. e.g., 17:30. Remember it is {str_time} now, and if it is not possible to determine whether it is AM or PM, infer it as AM from 9:00 to 11:59 and as PM the others.\",\n",
    "                    },\n",
    "                    \"meeting_topic\": {\n",
    "                        \"type\": \"string\",\n",
    "                        \"description\": \"Meeting topic inferred from the conversation list: within 30 characters, in 한국어. e.g., 'OO 사업 기획 관련 회의', 'OO사 미팅', etc.\",\n",
    "                    },\n",
    "                },\n",
    "                \"required\": [\n",
    "                    \"meeting_room\",\n",
    "                    \"meeting_date\",\n",
    "                    \"meeting_time\",\n",
    "                    \"meeting_topic\",\n",
    "                ],\n",
    "                \"additionalProperties\": False,\n",
    "            },\n",
    "            \"strict\": True, \n",
    "        },\n",
    "    }\n",
    "]"
   ]
  },
  {
   "cell_type": "code",
   "execution_count": 4,
   "metadata": {},
   "outputs": [],
   "source": [
    "concept = \"You are a auto meetingroom reservation bot. Based on the list of entered conversations, identify the meeting location and time.\""
   ]
  },
  {
   "cell_type": "code",
   "execution_count": 5,
   "metadata": {},
   "outputs": [],
   "source": [
    "assistant = GPTAssistant(\n",
    "  api_key=OPENAI_KEY,\n",
    "  model_name=\"gpt-4o-mini\",\n",
    "  instructions=concept,\n",
    "  tools=tools,\n",
    "  return_args_only=True\n",
    ")"
   ]
  },
  {
   "cell_type": "markdown",
   "metadata": {},
   "source": [
    "---\n",
    "### Run"
   ]
  },
  {
   "cell_type": "code",
   "execution_count": 7,
   "metadata": {},
   "outputs": [],
   "source": [
    "conv = [\n",
    "  {\n",
    "    \"speaker\": \"김지영 대리\",\n",
    "    \"text\":\"대표님이 30분 뒤에 우리 팀 다같이 보자네요\"\n",
    "   },\n",
    "   {\n",
    "     \"speaker\": \"권은서 주임\",\n",
    "     \"text\": \"헐 무섭다 회의실 예약할까요?\"\n",
    "   },\n",
    "   {\n",
    "     \"speaker\": \"권은찬 주임\",\n",
    "     \"text\": \"왜 부르시는지는 모르죠?\"\n",
    "   },\n",
    "   {\n",
    "    \"speaker\": \"김지영 대리\",\n",
    "    \"text\":\"네 이유는 모르겠네요;; 일단 회의실 아무데나 잡아주세요\"\n",
    "   },\n",
    "]"
   ]
  },
  {
   "cell_type": "code",
   "execution_count": 8,
   "metadata": {},
   "outputs": [],
   "source": [
    "res = assistant.first_chat(str(conv))"
   ]
  },
  {
   "cell_type": "code",
   "execution_count": 9,
   "metadata": {},
   "outputs": [
    {
     "data": {
      "text/markdown": [
       "{'meeting_room': '회의실1', 'meeting_date': '2024-11-24', 'meeting_time': '18:51', 'meeting_topic': '대표님 회의'}"
      ],
      "text/plain": [
       "<IPython.core.display.Markdown object>"
      ]
     },
     "execution_count": 9,
     "metadata": {},
     "output_type": "execute_result"
    }
   ],
   "source": [
    "Markdown(res[\"results\"][0]['output'])"
   ]
  }
 ],
 "metadata": {
  "kernelspec": {
   "display_name": "aswc",
   "language": "python",
   "name": "python3"
  },
  "language_info": {
   "codemirror_mode": {
    "name": "ipython",
    "version": 3
   },
   "file_extension": ".py",
   "mimetype": "text/x-python",
   "name": "python",
   "nbconvert_exporter": "python",
   "pygments_lexer": "ipython3",
   "version": "3.9.20"
  }
 },
 "nbformat": 4,
 "nbformat_minor": 2
}
